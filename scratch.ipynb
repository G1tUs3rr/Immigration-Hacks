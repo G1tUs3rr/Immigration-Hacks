{
 "cells": [
  {
   "cell_type": "code",
   "execution_count": 1,
   "metadata": {},
   "outputs": [
    {
     "name": "stderr",
     "output_type": "stream",
     "text": [
      "/Users/jasonlee_1/projects/Immigration-Hacks/.venv/lib/python3.11/site-packages/tqdm/auto.py:21: TqdmWarning: IProgress not found. Please update jupyter and ipywidgets. See https://ipywidgets.readthedocs.io/en/stable/user_install.html\n",
      "  from .autonotebook import tqdm as notebook_tqdm\n"
     ]
    },
    {
     "name": "stdout",
     "output_type": "stream",
     "text": [
      "WARNING: TELEGRAM_BOT_TOKEN is not set. Please set it in your .env file or environment variables.\n"
     ]
    }
   ],
   "source": [
    "import sys\n",
    "sys.path.append('/Users/jasonlee_1/projects/Immigration-Hacks')\n",
    "\n",
    "from app.vector_store import generate_embedding, upsert_vectors\n",
    "import pdfplumber\n"
   ]
  },
  {
   "cell_type": "code",
   "execution_count": 2,
   "metadata": {},
   "outputs": [],
   "source": [
    "def extract_text_from_pdf(pdf_path):\n",
    "    all_text = \"\"\n",
    "    with pdfplumber.open(pdf_path) as pdf:\n",
    "        for page_number, page in enumerate(pdf.pages, start=1):\n",
    "            text = page.extract_text()\n",
    "            if text:\n",
    "                all_text += text + \"\\n\"\n",
    "            else:\n",
    "                print(f\"Page {page_number} has no extractable text.\")\n",
    "    return all_text\n"
   ]
  },
  {
   "cell_type": "code",
   "execution_count": 3,
   "metadata": {},
   "outputs": [],
   "source": [
    "# law_doc = extract_text_from_pdf('data/raw_documents/Fundamentals_of_Immigration_Law.pdf')\n",
    "# snippet = law_doc[:5000]\n",
    "# with open ('snippet.txt', 'w') as f:\n",
    "#     f.write(snippet)"
   ]
  },
  {
   "cell_type": "code",
   "execution_count": 4,
   "metadata": {},
   "outputs": [],
   "source": [
    "with open ('snippet.txt', 'r') as f:\n",
    "    snippet = f.read()"
   ]
  },
  {
   "cell_type": "code",
   "execution_count": 5,
   "metadata": {},
   "outputs": [],
   "source": [
    "import nest_asyncio\n",
    "nest_asyncio.apply()  # This allows running async code in Jupyter\n",
    "\n",
    "embedding = await generate_embedding(snippet)"
   ]
  },
  {
   "cell_type": "code",
   "execution_count": 6,
   "metadata": {},
   "outputs": [
    {
     "name": "stderr",
     "output_type": "stream",
     "text": [
      "Vector ID was too long (5000 chars). Truncated to 'FUNDAMENTALS OF IMMIGRATION LAW by Charles A. Wiegand, III Immigration Judge, Oakdale, Louisiana Revised October 2011 Philip Verrillo, Immigration Judge, Hartford, Connecticut Sarah Byrd, Attorney Advisor, Falls Church, Virginia Alexa McDonnell, Attorney Advisor, Philadelphia, Pennsylvania Sarah Rempel, Attorney Advisor, Hartford, Connecticut TABLE OF CONTENTS I. The “entry doctrine”. ....................................................1 A. History lesson. .........................................._9e0f6271'\n",
      "Error upserting vectors to Pinecone: (400)\n",
      "Reason: Bad Request\n",
      "HTTP response headers: HTTPHeaderDict({'Date': 'Sat, 10 May 2025 21:04:51 GMT', 'Content-Type': 'application/json', 'Content-Length': '612', 'Connection': 'keep-alive', 'x-pinecone-request-latency-ms': '248', 'x-pinecone-request-id': '7413025110652154601', 'x-envoy-upstream-service-time': '20', 'server': 'envoy'})\n",
      "HTTP response body: {\"code\":3,\"message\":\"ID length of 'FUNDAMENTALS OF IMMIGRATION LAW by Charles A. Wiegand, III Immigration Judge, Oakdale, Louisiana Revised October 2011 Philip Verrillo, Immigration Judge, Hartford, Connecticut Sarah Byrd, Attorney Advisor, Falls Church, Virginia Alexa McDonnell, Attorney Advisor, Philadelphia, Pennsylvania Sarah Rempel, Attorney Advisor, Hartford, Connecticut TABLE OF CONTENTS I. The “entry doctrine”. ....................................................1 A. History lesson. .........................................._9e0f6271' exceeds the maximum length of 512 characters\",\"details\":[]}\n",
      "Traceback (most recent call last):\n",
      "  File \"/Users/jasonlee_1/projects/Immigration-Hacks/app/vector_store.py\", line 172, in upsert_vectors\n",
      "    response = index.upsert(vectors=processed_batch)\n",
      "               ^^^^^^^^^^^^^^^^^^^^^^^^^^^^^^^^^^^^^\n",
      "  File \"/Users/jasonlee_1/projects/Immigration-Hacks/.venv/lib/python3.11/site-packages/pinecone/utils/error_handling.py\", line 11, in inner_func\n",
      "    return func(*args, **kwargs)\n",
      "           ^^^^^^^^^^^^^^^^^^^^^\n",
      "  File \"/Users/jasonlee_1/projects/Immigration-Hacks/.venv/lib/python3.11/site-packages/pinecone/data/index.py\", line 141, in upsert\n",
      "    return self._upsert_batch(vectors, namespace, _check_type, **kwargs)\n",
      "           ^^^^^^^^^^^^^^^^^^^^^^^^^^^^^^^^^^^^^^^^^^^^^^^^^^^^^^^^^^^^^\n",
      "  File \"/Users/jasonlee_1/projects/Immigration-Hacks/.venv/lib/python3.11/site-packages/pinecone/data/index.py\", line 167, in _upsert_batch\n",
      "    return self._vector_api.upsert_vectors(\n",
      "           ^^^^^^^^^^^^^^^^^^^^^^^^^^^^^^^^\n",
      "  File \"/Users/jasonlee_1/projects/Immigration-Hacks/.venv/lib/python3.11/site-packages/pinecone/openapi_support/endpoint.py\", line 102, in __call__\n",
      "    return self.callable(self, *args, **kwargs)\n",
      "           ^^^^^^^^^^^^^^^^^^^^^^^^^^^^^^^^^^^^\n",
      "  File \"/Users/jasonlee_1/projects/Immigration-Hacks/.venv/lib/python3.11/site-packages/pinecone/core/openapi/db_data/api/vector_operations_api.py\", line 675, in __upsert_vectors\n",
      "    return self.call_with_http_info(**kwargs)\n",
      "           ^^^^^^^^^^^^^^^^^^^^^^^^^^^^^^^^^^\n",
      "  File \"/Users/jasonlee_1/projects/Immigration-Hacks/.venv/lib/python3.11/site-packages/pinecone/openapi_support/endpoint.py\", line 134, in call_with_http_info\n",
      "    return self.api_client.call_api(\n",
      "           ^^^^^^^^^^^^^^^^^^^^^^^^^\n",
      "  File \"/Users/jasonlee_1/projects/Immigration-Hacks/.venv/lib/python3.11/site-packages/pinecone/openapi_support/api_client.py\", line 300, in call_api\n",
      "    return self.__call_api(\n",
      "           ^^^^^^^^^^^^^^^^\n",
      "  File \"/Users/jasonlee_1/projects/Immigration-Hacks/.venv/lib/python3.11/site-packages/pinecone/openapi_support/api_client.py\", line 178, in __call_api\n",
      "    raise e\n",
      "  File \"/Users/jasonlee_1/projects/Immigration-Hacks/.venv/lib/python3.11/site-packages/pinecone/openapi_support/api_client.py\", line 166, in __call_api\n",
      "    response_data = self.request(\n",
      "                    ^^^^^^^^^^^^^\n",
      "  File \"/Users/jasonlee_1/projects/Immigration-Hacks/.venv/lib/python3.11/site-packages/pinecone/openapi_support/api_client.py\", line 380, in request\n",
      "    return self.rest_client.POST(\n",
      "           ^^^^^^^^^^^^^^^^^^^^^^\n",
      "  File \"/Users/jasonlee_1/projects/Immigration-Hacks/.venv/lib/python3.11/site-packages/pinecone/openapi_support/rest_utils.py\", line 146, in POST\n",
      "    return self.request(\n",
      "           ^^^^^^^^^^^^^\n",
      "  File \"/Users/jasonlee_1/projects/Immigration-Hacks/.venv/lib/python3.11/site-packages/pinecone/openapi_support/rest_urllib3.py\", line 260, in request\n",
      "    return raise_exceptions_or_return(r)\n",
      "           ^^^^^^^^^^^^^^^^^^^^^^^^^^^^^\n",
      "  File \"/Users/jasonlee_1/projects/Immigration-Hacks/.venv/lib/python3.11/site-packages/pinecone/openapi_support/rest_utils.py\", line 49, in raise_exceptions_or_return\n",
      "    raise PineconeApiException(http_resp=r)\n",
      "pinecone.openapi_support.exceptions.PineconeApiException: (400)\n",
      "Reason: Bad Request\n",
      "HTTP response headers: HTTPHeaderDict({'Date': 'Sat, 10 May 2025 21:04:51 GMT', 'Content-Type': 'application/json', 'Content-Length': '612', 'Connection': 'keep-alive', 'x-pinecone-request-latency-ms': '248', 'x-pinecone-request-id': '7413025110652154601', 'x-envoy-upstream-service-time': '20', 'server': 'envoy'})\n",
      "HTTP response body: {\"code\":3,\"message\":\"ID length of 'FUNDAMENTALS OF IMMIGRATION LAW by Charles A. Wiegand, III Immigration Judge, Oakdale, Louisiana Revised October 2011 Philip Verrillo, Immigration Judge, Hartford, Connecticut Sarah Byrd, Attorney Advisor, Falls Church, Virginia Alexa McDonnell, Attorney Advisor, Philadelphia, Pennsylvania Sarah Rempel, Attorney Advisor, Hartford, Connecticut TABLE OF CONTENTS I. The “entry doctrine”. ....................................................1 A. History lesson. .........................................._9e0f6271' exceeds the maximum length of 512 characters\",\"details\":[]}\n",
      "\n"
     ]
    }
   ],
   "source": [
    "upsert_resp = await upsert_vectors([(snippet, embedding, {\"source\": \"Fundamentals_of_Immigration_Law.pdf\"})])"
   ]
  },
  {
   "cell_type": "code",
   "execution_count": 7,
   "metadata": {},
   "outputs": [],
   "source": [
    "upsert_resp"
   ]
  },
  {
   "cell_type": "code",
   "execution_count": null,
   "metadata": {},
   "outputs": [],
   "source": []
  }
 ],
 "metadata": {
  "kernelspec": {
   "display_name": ".venv",
   "language": "python",
   "name": "python3"
  },
  "language_info": {
   "codemirror_mode": {
    "name": "ipython",
    "version": 3
   },
   "file_extension": ".py",
   "mimetype": "text/x-python",
   "name": "python",
   "nbconvert_exporter": "python",
   "pygments_lexer": "ipython3",
   "version": "3.11.0"
  }
 },
 "nbformat": 4,
 "nbformat_minor": 2
}
