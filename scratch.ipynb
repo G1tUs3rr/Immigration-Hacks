{
 "cells": [
  {
   "cell_type": "code",
   "execution_count": 1,
   "metadata": {},
   "outputs": [
    {
     "name": "stderr",
     "output_type": "stream",
     "text": [
      "/Users/jasonlee_1/projects/Immigration-Hacks/.venv/lib/python3.11/site-packages/tqdm/auto.py:21: TqdmWarning: IProgress not found. Please update jupyter and ipywidgets. See https://ipywidgets.readthedocs.io/en/stable/user_install.html\n",
      "  from .autonotebook import tqdm as notebook_tqdm\n",
      "Failed to initialize Pinecone: argument of type 'method' is not iterable\n",
      "Traceback (most recent call last):\n",
      "  File \"/Users/jasonlee_1/projects/Immigration-Hacks/app/vector_store.py\", line 87, in init_pinecone\n",
      "    if PINECONE_INDEX_NAME not in pc.list_indexes().names:\n",
      "       ^^^^^^^^^^^^^^^^^^^^^^^^^^^^^^^^^^^^^^^^^^^^^^^^^^\n",
      "TypeError: argument of type 'method' is not iterable\n",
      "Pinecone not initialized. Vector store operations will be degraded or fail.\n"
     ]
    },
    {
     "name": "stdout",
     "output_type": "stream",
     "text": [
      "WARNING: TELEGRAM_BOT_TOKEN is not set. Please set it in your .env file or environment variables.\n"
     ]
    }
   ],
   "source": [
    "import sys\n",
    "sys.path.append('/Users/jasonlee_1/projects/Immigration-Hacks')\n",
    "\n",
    "from app.vector_store import generate_embedding\n",
    "import pdfplumber\n"
   ]
  },
  {
   "cell_type": "code",
   "execution_count": 2,
   "metadata": {},
   "outputs": [],
   "source": [
    "def extract_text_from_pdf(pdf_path):\n",
    "    all_text = \"\"\n",
    "    with pdfplumber.open(pdf_path) as pdf:\n",
    "        for page_number, page in enumerate(pdf.pages, start=1):\n",
    "            text = page.extract_text()\n",
    "            if text:\n",
    "                all_text += text + \"\\n\"\n",
    "            else:\n",
    "                print(f\"Page {page_number} has no extractable text.\")\n",
    "    return all_text\n"
   ]
  },
  {
   "cell_type": "code",
   "execution_count": 19,
   "metadata": {},
   "outputs": [],
   "source": [
    "# law_doc = extract_text_from_pdf('data/raw_documents/Fundamentals_of_Immigration_Law.pdf')\n",
    "# snippet = law_doc[:5000]\n",
    "# with open ('snippet.txt', 'w') as f:\n",
    "#     f.write(snippet)"
   ]
  },
  {
   "cell_type": "code",
   "execution_count": 20,
   "metadata": {},
   "outputs": [],
   "source": [
    "with open ('snippet.txt', 'r') as f:\n",
    "    snippet = f.read()"
   ]
  },
  {
   "cell_type": "code",
   "execution_count": 21,
   "metadata": {},
   "outputs": [],
   "source": [
    "embedding = generate_embedding(snippet)"
   ]
  },
  {
   "cell_type": "code",
   "execution_count": null,
   "metadata": {},
   "outputs": [],
   "source": []
  }
 ],
 "metadata": {
  "kernelspec": {
   "display_name": ".venv",
   "language": "python",
   "name": "python3"
  },
  "language_info": {
   "codemirror_mode": {
    "name": "ipython",
    "version": 3
   },
   "file_extension": ".py",
   "mimetype": "text/x-python",
   "name": "python",
   "nbconvert_exporter": "python",
   "pygments_lexer": "ipython3",
   "version": "3.11.0"
  }
 },
 "nbformat": 4,
 "nbformat_minor": 2
}
